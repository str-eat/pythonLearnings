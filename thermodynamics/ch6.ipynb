{
 "metadata": {
  "name": "",
  "signature": "sha256:e0e4f9e9f71c0b9c27ff466af371f22ff85ee7343ea614fcc4b711918abfbe66"
 },
 "nbformat": 3,
 "nbformat_minor": 0,
 "worksheets": [
  {
   "cells": [
    {
     "cell_type": "heading",
     "level": 1,
     "metadata": {},
     "source": [
      "Chapter 6 : Thermodynamics Properties of Fluids"
     ]
    },
    {
     "cell_type": "heading",
     "level": 2,
     "metadata": {},
     "source": [
      "Example 6.1  page no : 88"
     ]
    },
    {
     "cell_type": "code",
     "collapsed": false,
     "input": [
      "import math \n",
      "\n",
      "# Variables\n",
      "\n",
      "#At Temp T1 = 298.15K\n",
      "T1 = 298.15;\t\t\t#[K]\n",
      "P1 = 1.;\t    \t\t#[bar]\n",
      "P2 = 1000.;\t\t    \t#[bar]\n",
      "Cp_T1 = 75.305;\t\t\t#[KJ Kmol/K]\n",
      "V1_T1 = 18.071*10**-3;\t\t\t#[m**3/Kmol]\n",
      "V2_T1 = 18.012*10**-3;\t\t\t#[m**3/Kmol]\n",
      "beta1_T1 = 256.*10**-6;\t\t\t#[1/K]\n",
      "beta2_T1 = 366.*10**-6;\t\t\t#[1/K]\n",
      "\n",
      "#At Temp T2 = 323.15K\n",
      "T2 = 323.15;\t\t\t#[K]\n",
      "P1 = 1.;\t\t\t#[bar]\n",
      "P2 = 1000.;\t\t\t#[bar]\n",
      "Cp_T2 = 75.314;\t\t\t#[KJ Kmol/K]\n",
      "V1_T2 = 18.234*10**-3;\t\t\t#[m**3/Kmol]\n",
      "V2_T2 = 18.174*10**-3;\t\t\t#[m**3/Kmol]\n",
      "beta1_T2 = 458.*10**-6;\t\t\t#[1/K]\n",
      "beta2_T2 = 568.*10**-6;\t\t\t#[1/K]\n",
      "\n",
      "#Solution\n",
      "\n",
      "#Formula to be used\n",
      "#Eqn (6.28) del_H = ((Cp)(T2-T1))-((V)(1-(beta)(T2)(P2-P1))\n",
      "#Eqn (6.29) del_S = ((Cp)ln(T2/T1)-((beta)(V)(P2-P1))\n",
      "\n",
      "#For P = 1\n",
      "Cp = (Cp_T1+Cp_T2)/2;\n",
      "#For T = 323.15K\n",
      "V = (V1_T2+V2_T2)/2;\n",
      "beta_T = (beta1_T2+beta2_T2)/2;\n",
      "\n",
      "del_H = round((Cp*(T2-T1))+(V*(1-(beta_T*T2))*(P2-P1)*10**5*10**-3),0);\n",
      "del_S = round((Cp*(math.log(T2/T1)))-(beta_T*V*(P2-P1)*10**5*10**-3),2);\n",
      "\n",
      "print 'Change In Enthalpy',del_H,'KJ/Kmol'\n",
      "print 'Change In Entropy',del_S,'KJ/Kmol/K'\n"
     ],
     "language": "python",
     "metadata": {},
     "outputs": [
      {
       "output_type": "stream",
       "stream": "stdout",
       "text": [
        "Change In Enthalpy 3400.0 KJ/Kmol\n",
        "Change In Entropy 5.13 KJ/Kmol/K\n"
       ]
      }
     ],
     "prompt_number": 1
    },
    {
     "cell_type": "heading",
     "level": 2,
     "metadata": {},
     "source": [
      "Example 6.3  page no : 89"
     ]
    },
    {
     "cell_type": "code",
     "collapsed": false,
     "input": [
      "%matplotlib inline\n",
      "import math \n",
      "from matplotlib.pyplot import plot,suptitle,xlabel,ylabel\n",
      "from numpy import array\n",
      "\n",
      "def ICPS(T0,T,A,B,C,D):\n",
      "    t = T/T0;\n",
      "    return  ((A)*math.log(t))+(((B*T0)+(((C*T0*T0)+(D/(t*t*T0*T0)))*(t+1)/2))*(t-1))\n",
      "\n",
      "def ICPH(T0,T,A,B,C,D):\n",
      "    t = T/T0;\n",
      "    return (A+((B/2)*T0*(t+1))+((C/3)*T0*T0*((t**2)+t+1))+(D/(t*T0*T0)))*(T-T0)\n",
      "\n",
      "# Variables\n",
      "T0 = 300.;\t\t\t#[K]\n",
      "T = 360.;\t\t\t#[K]\n",
      "R = 8.314;\n",
      "P = 15.14;\t\t\t#[bar]\n",
      "A = 1.7765;\n",
      "B = 33.037*10**-3;\n",
      "C = 0;\n",
      "D = 0;\n",
      "H0 = 18115.;  \t\t\t#J/mol\n",
      "S0 = 295.976;\t\t\t#J/mol/K\n",
      "\n",
      "#Graph\n",
      "X = array([0,0.10,0.50,2,4,6,8,10,12,14,15.41]);\n",
      "Y1 = array([1.780,1.700,1.514,1.293,1.290,1.395,1.560,1.777,2.073,2.432,2.720]);\t\t\t#[(dZ/dT)p/P]\n",
      "Y2 = array([2.590,2.470,2.186,1.759,1.591,1.544,1.552,1.592,1.658,1.750,1.835]);\t\t\t#[-(Z-1)/P]\n",
      "plot(Y1,X);\n",
      "suptitle(\"(a)\")\n",
      "xlabel(\"P(bar)\")\n",
      "ylabel(\"[(dZ/dT)p/P]X10**4(K**-1 bar**-1)\");\n",
      "plot(Y2,X);\n",
      "suptitle(\"(b)\")\n",
      "xlabel(\"P(bar)\")\n",
      "ylabel(\"[-(Z-1)/P]X10**2(bar**-1)\");\n",
      "\n",
      "\n",
      "#Area Under the Curve (a)\n",
      "Y1 = Y1*10**-4;\n",
      "A1 = 0;\n",
      "for i in range(1,11):\n",
      "    A1 = A1+((X[i-1]-X[i])*Y1[i]);\n",
      "\n",
      "print 'Area under the graph(a)',A1*10000,'(X 10**-4) K**-1'\n",
      "#Area Under the Curve (b)\n",
      "Y2 = Y2*10**-2;\n",
      "A2 = 0;\n",
      "for i in range(1,11):\n",
      "    A2 = A2+((X[i-1]-X[i])*Y2[i]);\n",
      "\n",
      "print 'Area under the graph(b)',round(A2,4)\n",
      "\n",
      "\n",
      "K = A1*T;\t\t\t#Hr/RT\n",
      "#From Eqn(6.47)\n",
      "Hr = R*T*(K);\t\t\t#[J/mol]\n",
      "#From Eqn(6.48)\n",
      "Sr = R*(K-(A2));\t\t\t#[J/mol/K]\n",
      "\n",
      "#From Eqn(6.49) and Eqn(6.50)\n",
      "H1 = R*ICPH(T0,T,A,B,C,D);\n",
      "S1 = R*ICPS(T0,T,A,B,C,D);\n",
      "\n",
      "H = H0+H1+Hr;\n",
      "S = round(S0+S1+Sr-(R*math.log(P)),3);\n",
      "\n",
      "print 'Enthalpy',H,'J/mol'\n",
      "print 'Entropy',S,'J/mol/K'\n",
      "print ('Note: The Answer is different with that of the Book because the Method Used\\\n",
      " to find the Area under the Graph is done by finding the area of small Rectangles')\n"
     ],
     "language": "python",
     "metadata": {},
     "outputs": [
      {
       "output_type": "stream",
       "stream": "stdout",
       "text": [
        " Area under the graph(a) -27.6043 (X 10**-4) K**-1\n",
        "Area under the graph(b) -0.2572\n",
        "Enthalpy 21465.2998298 J/mol\n",
        "Entropy 286.433 J/mol/K\n",
        "Note: The Answer is different with that of the Book because the Method Used to find the Area under the Graph is done by finding the area of small Rectangles\n"
       ]
      },
      {
       "metadata": {},
       "output_type": "display_data",
       "png": "[encoded data removed]",
       "text": [
        "<matplotlib.figure.Figure at 0x110044150>"
       ]
      }
     ],
     "prompt_number": 4
    },
    {
     "cell_type": "heading",
     "level": 2,
     "metadata": {},
     "source": [
      "Example 6.4  page no : 92"
     ]
    },
    {
     "cell_type": "code",
     "collapsed": false,
     "input": [
      "import math \n",
      "\n",
      "# Variables\n",
      "T = 500.;\t\t\t#[K]\n",
      "R = 8.314;\n",
      "Tc = 425.1;\t\t\t#[K]\n",
      "P = 50.;\t\t\t#[bar]\n",
      "Pc = 37.96;\t\t\t#[bar]\n",
      "omega = 0.08664;\n",
      "si = 0.4636;\n",
      "Tr = T/Tc;\n",
      "Pr = P/Pc;\n",
      "alpha_Tr = Tr**(-0.5);\t\t\t#a(Tr)\n",
      "#Using Eqn(3.50)\n",
      "Beta = omega*(Pr/Tr);\n",
      "#Using Eqn(3.51)\n",
      "q = si*alpha_Tr/(omega*(Tr**1.5));\n",
      "\n",
      "#using eqn(3.49)\n",
      "#Z = 1+beta-q*beta*((Z-beta)/((Z+(epsilon*beta))*(Z+(sigma*beta)))\n",
      "\n",
      "#calculation of Z\n",
      "Z = 1;\t\t\t#Initial\n",
      "a = Z;\n",
      "for i in range(11):\n",
      "    b = 1+Beta-(q*Beta*((a-Beta)/(a*(a+Beta))));\n",
      "    if((b-a) == 0.0001):\n",
      "        break;\n",
      "    a = b;\n",
      "    i = i+1;\n",
      "\n",
      "Z = round(b,3)\n",
      "\n",
      "#Umath.sing Eqn(6.64) and eqn(6.65)\n",
      "#(Hr/RT) = Z-1+[(d ln(alpha_Tr)/d ln Tr)-1]qI   I = ln((Z+beta)/Z)  d ln(alpha_Tr)/d ln Tr = -0.5\n",
      "#Sr/R) = ln(Z-beta)+[d ln(alpha_Tr)/d ln Tr]qI  I = ln((Z+beta)/Z)  d ln(alpha_Tr)/d ln Tr = -0.5\n",
      "I = math.log((Z+Beta)/Z);\n",
      "Hr = round(R*T*(Z-1+((-0.5-1)*q*I)),0);\n",
      "Sr = round(R*(math.log(Z-Beta)+(-0.5*q*I)),3);\n",
      "\n",
      "print ('Using Redlich/Kwong Equation')\n",
      "print 'Residual Enthalpy',Hr,'J/mol'\n",
      "print 'Residual Entropy',Sr,'J/mol/K'\n"
     ],
     "language": "python",
     "metadata": {},
     "outputs": [
      {
       "output_type": "stream",
       "stream": "stdout",
       "text": [
        "Using Redlich/Kwong Equation\n",
        "Residual Enthalpy -4504.0 J/mol\n",
        "Residual Entropy -6.545 J/mol/K\n"
       ]
      }
     ],
     "prompt_number": 6
    },
    {
     "cell_type": "heading",
     "level": 2,
     "metadata": {},
     "source": [
      "Example 6.6  page no : 93"
     ]
    },
    {
     "cell_type": "code",
     "collapsed": false,
     "input": [
      "# Variables\n",
      "P1 = 1000.;\t\t\t#[KPa]\n",
      "T = 533.15;\t\t\t#[K]\n",
      "P2 = 200.;\t\t\t#[KPa]\n",
      "H1 = 2965.2;\t\t\t#[KJ/kg]  from Steam tables\n",
      "S1 = 6.9680;\t\t\t#[KJ/Kg/K] From steam tables\n",
      "S2 = S1;\n",
      "S_l = 1.5301;\t\t\t#[KJ/Kg/K]  Entropy Of Saturated Liquid @ 200KPa\n",
      "S_v = 7.1268;\t\t\t#[KJ/Kg/K]  Entropy Of Saturated vapor  @ 200KPa\n",
      "H_l = 504.7;\t\t\t#[KJ/Kg]     Enthalpy Of saturated liquid @ 200KPa\n",
      "H_v = 2706.7;\t\t\t#[KJ/Kg]    Enthalpy Of saturated vapor @ 200KPa\n",
      "\n",
      "# Calculations\n",
      "#find x_v from the eqn S = (1-x_v)S_l+x_c*S_v\n",
      "x_v = round((S1-S_l)/(S_v-S_l),4);\n",
      "\n",
      "#From Eqn(6.73a)\n",
      "H2 = ((1-x_v)*H_l)+(x_v*H_v);\n",
      "del_H = round(H2-H1,0);\t\t\t#[KJ/Kg]\n",
      "\n",
      "# Results\n",
      "print 'Percent vapor',x_v*100,'%'\n",
      "print 'Percent Liquid',(1-x_v)*100,'%'\n",
      "print 'Change In Enthalpy',del_H,'KJ/Kg'\n"
     ],
     "language": "python",
     "metadata": {},
     "outputs": [
      {
       "output_type": "stream",
       "stream": "stdout",
       "text": [
        "Percent vapor 97.16 %\n",
        "Percent Liquid 2.84 %\n",
        "Change In Enthalpy -321.0 KJ/Kg\n"
       ]
      }
     ],
     "prompt_number": 7
    },
    {
     "cell_type": "heading",
     "level": 2,
     "metadata": {},
     "source": [
      "Example 6.7 page no : 96"
     ]
    },
    {
     "cell_type": "code",
     "collapsed": false,
     "input": [
      "import math \n",
      "from numpy import array,linalg\n",
      "\n",
      "# Variables(from steam tables)\n",
      "H = 293.;\t\t\t#[KJ/Kg]  at 343.15K\n",
      "H_liquid = 419.1;\t\t\t#[KJ/Kg]  at 373.15K\n",
      "H_vapor = 2676;\t\t\t#[KJ/Kg]    at 373.15K\n",
      "V_vapor = 1.5;\t\t\t#[m**3]\n",
      "m1_liquid = 500.;\t\t\t#[Kg]\n",
      "rho_liquid = 0.001044;\t\t\t#[m**3/Kg]\n",
      "rho_vapor = 1.673;\t\t\t#[m**3/Kg]\n",
      "del_m = 750.;\t\t\t#[Kg]\n",
      "\n",
      "# Calculations\n",
      "#using the eqn Q = (m2H2)math.tank-(m1H1)math.tank-(H*del_m)math.tank\n",
      "m1_vapor = (V_vapor-(m1_liquid*rho_liquid))/rho_vapor;\n",
      "#Term2 = ((m1H1)math.tank\n",
      "Term2 = (m1_liquid*H_liquid)+(m1_vapor*H_vapor);\n",
      "mT = m1_liquid+del_m+m1_vapor;\n",
      "#Solving Eqn By matrix Method\n",
      "#m_vapor+m_liquid = mT  and   (rho_vapor*m_vapor)+(rho_liquid*rho_vapor) = V_vapor\n",
      "A = array([[1,1],[rho_vapor,rho_liquid]]);\n",
      "B = array([mT,V_vapor]);\n",
      "X = linalg.solve(A,B);\n",
      "m2_vapor = X[0]\n",
      "m2_liquid = X[1]\n",
      "\n",
      "Term1 = (m2_liquid*H_liquid)+(m2_vapor*H_vapor);\n",
      "Q = round(Term1-Term2-del_m*H,0);\n",
      "\n",
      "print 'Heat Required',Q,'KJ'\n",
      "print ('Note: The Answer Varies With That of The Book because the calculations as \\\n",
      " in Book do not give the Answer the Book results')\n"
     ],
     "language": "python",
     "metadata": {},
     "outputs": [
      {
       "output_type": "stream",
       "stream": "stdout",
       "text": [
        "Heat Required 93518.0 KJ\n",
        "Note: The Answer Varies With That of The Book because the calculations as  in Book do not give the Answer the Book results\n"
       ]
      }
     ],
     "prompt_number": 10
    },
    {
     "cell_type": "heading",
     "level": 2,
     "metadata": {},
     "source": [
      "Example 6.8 page no : 98"
     ]
    },
    {
     "cell_type": "code",
     "collapsed": false,
     "input": [
      "import math \n",
      "from numpy import array,linalg\n",
      "\n",
      "\n",
      "def SRB(Tr,Pr,omega):\n",
      "    B0 = 0.083-(0.422/(Tr**1.6));\n",
      "    diffr_B0 = 0.675/(Tr**2.6);\t\t\t#dB0/dTr\n",
      "    B1 = 0.139-(0.172/(Tr**4.2));\n",
      "    diffr_B1 = 0.722/(Tr**5.2);\t\t\t#dB0/dTr\n",
      "    Q = -Pr*(diffr_B0+(omega*diffr_B1));\n",
      "    return Q\n",
      "\n",
      "def HRB(Tr,Pr,omega):\n",
      "    B0 = 0.083-(0.422/(Tr**1.6));\n",
      "    diffr_B0 = 0.675/(Tr**2.6);\t\t\t#dB0/dTr\n",
      "    B1 = 0.139-(0.172/(Tr**4.2));\n",
      "    diffr_B1 = 0.722/(Tr**5.2);\t\t\t#dB0/dTr\n",
      "    H = Pr*(B0-(Tr*diffr_B0)+(omega*(B1-(Tr*diffr_B1))));\n",
      "    return H\n",
      "\n",
      "def ICPS(T0,T,A,B,C,D):\n",
      "    t = T/T0;\n",
      "    return ((A)*math.log(t))+(((B*T0)+(((C*T0*T0)+(D/(t*t*T0*T0)))*(t+1)/2))*(t-1))\n",
      "\n",
      "def ICPH(T0,T,A,B,C,D):\n",
      "    t = T/T0;\n",
      "    return (A+((B/2)*T0*(t+1))+((C/3)*T0*T0*((t**2)+t+1))+(D/(t*T0*T0)))*(T-T0)\n",
      "\n",
      "# Variables(from steam tables)\n",
      "Tc = 420.;\t\t\t#[K]\n",
      "Pc = 40.43;\t\t\t#[bar]\n",
      "omega = 0.191;\n",
      "Tn = 266.9;\t\t\t#[K]\n",
      "A0 = 1.967;\n",
      "B0 = 31.630*10**-3;\n",
      "C0 = -9.837*10**-6;\n",
      "D0 = 0;\n",
      "T1 = 473.15;\t\t\t#[K]\n",
      "P = 70.;\t\t\t#[bar]\n",
      "R = 8.314;\n",
      "#From Table(E.3) And Table(E.4)\n",
      "Z0 = 0.485;\n",
      "Z1 = 0.142;\n",
      "\n",
      "Tr = T1/Tc;\n",
      "Pr = P/Pc;\n",
      "Z = Z0+(omega*Z1);\n",
      "V = round((Z*R*T1*10**-2)/P,4);\t\t\t#[m**3/Kmol]\n",
      "\n",
      "#step(a) vaporization at T1 and P1 = P_saturated\n",
      "#umath.sing eqn(6.70)  lnP_sat = A-(B/T)\n",
      "#Solving eqn ln(1.0133) = A-(B/266.9) and ln(40.43) = A-(B/420)\n",
      "a = array([[1,(-1/266.9)],[1,(-1./420)]])\n",
      "b = array([math.log(1.0133),math.log(40.43)]);\n",
      "x = linalg.solve(a,b)\n",
      "A = x[0]\n",
      "B = x[1]\n",
      "#umath.sing eqn(4.12)  del_Hn/RTn = 1.092*(ln Pc-1.013)/(0.930-Tr_n)\n",
      "Tr_n = Tn/Tc;\n",
      "del_Hn = R*Tn*(1.092*(math.log(Pc)-1.013)/(0.93-Tr_n));\t\t\t#[J/mol]\n",
      "T2 = 273.15;\t\t\t#[K]\n",
      "Tr = T2/Tc;\n",
      "#Umath.sing Eqn(4.13)  del_H/del_Hn = ((1-Tr)/(1-Tr_n))**0.38\n",
      "del_H_a = del_Hn*((1-Tr)/(1-Tr_n))**0.38;\n",
      "del_S_a = round(del_H_a/T2,2);\n",
      "\n",
      "#Step(b)transition to ideal gas State at(T1,P1)\n",
      "P_sat = math.exp(A-(B/273.15));\n",
      "Pr = P_sat/Pc;\n",
      "Tr = T2/Tc;\n",
      "Hr_b = round(R*Tc*HRB(Tr,Pr,omega),0)\t\t\t#[J/mol]\n",
      "Sr_b = round(R*SRB(Tr,Pr,omega),2)\t\t\t#[J/mol/K]\n",
      "\n",
      "#Step(c) Change to (T2,P2) in ideal-gas state\n",
      "\n",
      "H_c = round(R*ICPH(T2,T1,A0,B0,C0,D0),0);\t\t\t#[J/mol]\n",
      "S = R*ICPS(T2,T1,A0,B0,C0,D0);\t\t\t#[J/mol/K]\n",
      "del_S_c = round(S-(R*math.log(P/P_sat)),2);\t\t\t#[J/mol/K]\n",
      "\n",
      "#Step(d) Transition to actual final state at(T2,P2)\n",
      "#Umath.sing eqn(6.76) and eqn(6.77)\n",
      "#Hr/RTc = Hr0/RTc+(omega*Hr1/RTc)\n",
      "#Sr/R = Sr0/R+(omega*Sr1/R)  Sr0,Sr1 from Tables(E.5)\n",
      "Tr = T1/Tc;\n",
      "Pr = P/Pc;\n",
      "Hr_d = R*Tc*(-2.294+(omega*-0.713));\n",
      "Sr_d = R*(-1.566+(omega*-0.726));\n",
      "\n",
      "H = round(del_H_a-Hr_b+H_c+Hr_d,0);\n",
      "S = round(del_S_a-Sr_b+del_S_c+Sr_d,2);\n",
      "U = round(H-(P*V*10**2),0);\n",
      "\n",
      "print 'Volume(V) = ',V,'m**3/Kmol'\n",
      "print 'Internal energy(U) = ',U,'J/mol'\n",
      "print 'Enthalpy(H) = ',H,'J/mol'\n",
      "print 'Entropy(S) = ',S,'J/mol/K'\n",
      "\n",
      "print ('Note: The Answer here Slightly Varies with That of Book because of the different approximation')\n",
      "\n",
      "\n"
     ],
     "language": "python",
     "metadata": {},
     "outputs": [
      {
       "output_type": "stream",
       "stream": "stdout",
       "text": [
        "Volume(V) =  0.2878 m**3/Kmol\n",
        "Internal energy(U) =  32163.0 J/mol\n",
        "Enthalpy(H) =  34178.0 J/mol\n",
        "Entropy(S) =  88.55 J/mol/K\n",
        "Note: The Answer here Slightly Varies with That of Book because of the different approximation\n"
       ]
      }
     ],
     "prompt_number": 13
    },
    {
     "cell_type": "heading",
     "level": 2,
     "metadata": {},
     "source": [
      "Example 6.9 page no : 97"
     ]
    },
    {
     "cell_type": "code",
     "collapsed": false,
     "input": [
      "# Variables\n",
      "T = 450.;\t\t\t#[K]\n",
      "P = 140;\t\t\t#[bar]\n",
      "\n",
      "#pseudo parameters\n",
      "Tc1 = 304.2;\t\t\t#[K]\n",
      "Tc2 = 369.8;\t\t\t#[K]\n",
      "Pc1 = 73.83;\t\t\t#[bar]\n",
      "Pc2 = 42.48;\t\t\t#[bar]\n",
      "Tpc = (0.5*Tc1)+(0.5*Tc2);\n",
      "Ppc = (0.5*Pc1)+(0.5*Pc2);\n",
      "\n",
      "# Calculations\n",
      "Tpr = T/Tpc;\n",
      "Ppr = P/Ppc;\n",
      "\n",
      "Z0 = 0.697;\n",
      "Z1 = 0.205;\n",
      "\n",
      "omega1 = 0.224;\n",
      "omega2 = 0.152;\n",
      "omega = (0.5*omega1)+(0.5*omega2);\n",
      "\n",
      "Z = Z0+(omega*Z1);\n",
      "\n",
      "V = round(Z*R*T*10/P,1);\t\t\t#[cm**3/mol]\n",
      "\n",
      "#(H/RT)0 = -1.73 (H/RT)1 = -0.169\n",
      "H = round(R*Tpc*(-1.73+(omega*-0.169)),0);\t\t\t#[J/mol]\n",
      "S = round(R*(-0.967+(omega*-0.330)),2);\t\t\t#[J/mol/K]\n",
      "\n",
      "# Results\n",
      "print 'Volume(V) = ',V,'cm**3/mol'\n",
      "print 'Residual Enthaply(H) = ',H,'J/mol'\n",
      "print 'Residual Entropy(S) = ',S,'J/mol/K'\n"
     ],
     "language": "python",
     "metadata": {},
     "outputs": [
      {
       "output_type": "stream",
       "stream": "stdout",
       "text": [
        "Volume(V) =  196.6 cm**3/mol\n",
        "Residual Enthaply(H) =  -4936.0 J/mol\n",
        "Residual Entropy(S) =  -8.56 J/mol/K\n"
       ]
      }
     ],
     "prompt_number": 14
    }
   ],
   "metadata": {}
  }
 ]
}