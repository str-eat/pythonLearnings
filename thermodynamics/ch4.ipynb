{
 "metadata": {
  "name": "",
  "signature": "sha256:9f4189fd8ee1816a24aa6bb4e2adeca01a57d97ddb4f94ebb7e3ae541ddf1d49"
 },
 "nbformat": 3,
 "nbformat_minor": 0,
 "worksheets": [
  {
   "cells": [
    {
     "cell_type": "heading",
     "level": 1,
     "metadata": {},
     "source": [
      "Chapter 4 : Heat Effects"
     ]
    },
    {
     "cell_type": "heading",
     "level": 2,
     "metadata": {},
     "source": [
      "Example 4.2  page no : 61"
     ]
    },
    {
     "cell_type": "code",
     "collapsed": false,
     "input": [
      "\n",
      "import math \n",
      "\n",
      "\n",
      "def ICPH(T0,T,A,B,C,D):\n",
      "    t = T/T0;\n",
      "    return  (A+((B/2)*T0*(t+1))+((C/3)*T0*T0*((t**2)+t+1))+(D/(t*T0*T0)))*(T-T0)\n",
      "\n",
      "\n",
      "# Variables for methane\n",
      "R = 8.314;\n",
      "T0 = 533.15;\n",
      "T = 873.15;\n",
      "A = 1.702;\n",
      "B = 9.081*(10**-3);\n",
      "C = -2.164*(10**-6);\n",
      "D = 0;\n",
      "\n",
      "# Calculations\n",
      "Q = round(R*ICPH(T0,T,A,B,C,D),0);\n",
      "\n",
      "# Results\n",
      "print 'Heat Required',Q,'J'\n"
     ],
     "language": "python",
     "metadata": {},
     "outputs": [
      {
       "output_type": "stream",
       "stream": "stdout",
       "text": [
        "Heat Required 19778.0 J\n"
       ]
      }
     ],
     "prompt_number": 2
    },
    {
     "cell_type": "heading",
     "level": 2,
     "metadata": {},
     "source": [
      "Example 4.3  page no : 62"
     ]
    },
    {
     "cell_type": "code",
     "collapsed": false,
     "input": [
      "\n",
      "def MCPH(T0,T,A,B,C,D):\n",
      "    t = T/T0;\n",
      "    return (A+((B/2)*T0*(t+1))+((C/3)*T0*T0*((t**2)+t+1))+(D/(t*T0*T0)))\n",
      "\n",
      "\n",
      "# Variables for Ammonia\n",
      "R = 8.314;\n",
      "T0 = 533.15;\n",
      "A = 3.578;\n",
      "B = 3.020*(10**-3);\n",
      "C = 0;\n",
      "D = -0.186*(10**5);\n",
      "Q = 422*(10**3);\n",
      "n = 11.3;\n",
      "del_H = Q/n;\n",
      "\n",
      "# Calculations\n",
      "i = -1;\n",
      "a = (T0);\t\t\t#Initial\n",
      "while (i == -1):\n",
      "    b = R*MCPH(T0,a,A,B,C,D);\n",
      "    c = b*(a-T0);\n",
      "    flag = del_H-c;\n",
      "    if(flag <= 100):\n",
      "        T = a-1;\n",
      "        i = 1;\n",
      "    else:\n",
      "        a = a+1; \n",
      "        i = -1;\n",
      "\n",
      "# Results\n",
      "print 'Temperature Required(Approx)',T,'K'\n"
     ],
     "language": "python",
     "metadata": {},
     "outputs": [
      {
       "output_type": "stream",
       "stream": "stdout",
       "text": [
        "Temperature Required(Approx) 1250.15 K\n"
       ]
      }
     ],
     "prompt_number": 3
    },
    {
     "cell_type": "heading",
     "level": 2,
     "metadata": {},
     "source": [
      "Example 4.4  page no : 63"
     ]
    },
    {
     "cell_type": "code",
     "collapsed": false,
     "input": [
      "\n",
      "# Variables\n",
      "del_H1 = 2257.;\t\t\t#latent Heat of Vapourisation of water at 373.15K(100`C)[KJ/Kg]\n",
      "Tr1 = 373.15/647.1;\n",
      "Tr2 = 573.15/647.1;\n",
      "\n",
      "# Calculations\n",
      "del_H2 = round(del_H1*((1-Tr2)/(1-Tr1))**0.38,0);\t\t\t#KJ/Kg\n",
      "\n",
      "# Results\n",
      "print 'latent Heat at 573.15K',del_H2,'KJ/Kg'\n",
      "print ('Note: The Value as given in steam tables at 573.15K is 1406 KJ/Kg')\n"
     ],
     "language": "python",
     "metadata": {},
     "outputs": [
      {
       "output_type": "stream",
       "stream": "stdout",
       "text": [
        "latent Heat at 573.15K 1372.0 KJ/Kg\n",
        "Note: The Value as given in steam tables at 573.15K is 1406 KJ/Kg\n"
       ]
      }
     ],
     "prompt_number": 4
    },
    {
     "cell_type": "heading",
     "level": 2,
     "metadata": {},
     "source": [
      "Example 4.5 page no : 64"
     ]
    },
    {
     "cell_type": "code",
     "collapsed": false,
     "input": [
      "\n",
      "# Variables\n",
      "#4HCL + O2 --> 2H2O + 2Cl2\n",
      "del_H_HCL = -92.307;\t\t\t#KJ Heat Of Formation\n",
      "del_H_H2O = -241.818;\t\t\t#KJ\n",
      "\n",
      "# Calculations\n",
      "#4HCL --> 2H2 + 2Cl2\n",
      "del_H_298_HCL = 4*(-1)*del_H_HCL;\n",
      "#2H2 + O2 --> 2H2O\n",
      "del_H_298_H2O = 2*del_H_H2O;\n",
      "#Final\n",
      "del_H_298 = del_H_298_HCL+del_H_298_H2O;\n",
      "\n",
      "# Results\n",
      "print 'Standard Heat',del_H_298,'KJ'\n"
     ],
     "language": "python",
     "metadata": {},
     "outputs": [
      {
       "output_type": "stream",
       "stream": "stdout",
       "text": [
        "Standard Heat -114.408 KJ\n"
       ]
      }
     ],
     "prompt_number": 5
    },
    {
     "cell_type": "heading",
     "level": 2,
     "metadata": {},
     "source": [
      "Example 4.6  page no : 65\n"
     ]
    },
    {
     "cell_type": "code",
     "collapsed": false,
     "input": [
      "\n",
      "import math \n",
      "from numpy import array\n",
      "\n",
      "\n",
      "\n",
      "def IDCPH(T0,T,dA,dB,dC,dD):\n",
      "    t = T/T0;\n",
      "    return (dA+((dB/2)*T0*(t+1))+((dC/3)*T0*T0*((t**2)+t+1))+(dD/(t*T0*T0)))*(T-T0)\n",
      "\n",
      "\n",
      "# Variables\n",
      "#Methanol Synthesis @ 1073.15K(800`C)\n",
      "#CO + 2H2 --> CH3OH\n",
      "del_H_CO = -110.525\t\t\t#@298K from Table C.4\n",
      "del_H_CH3OH_g = -200.660;\t\t\t#@298K from Table C.4\n",
      "del_H_298 = ((1)*del_H_CH3OH_g)-((1)*del_H_CO);\t\t\t#KJ/mol\n",
      "T0 = 298.15;\n",
      "T = 1073.15;\n",
      "R = 8.314;\n",
      "#Moles (CH3OH,CO,H2)\n",
      "n = array([1,-1,-2]);\n",
      "#A..from Table C.1 \n",
      "A = array([2.211,3.376,3.249]);\n",
      "#B..from Table C.1\n",
      "B = (10**-3)*array([12.216,0.557,0.422]);\n",
      "#C..from Table C.1\n",
      "C = (10**-6)*array([-3.450,0,0]);\n",
      "#D..From table C.1\n",
      "D = (10**5)*array([0,-0.031,0.083]);\n",
      "\n",
      "# Calculations\n",
      "del_A = 0;\n",
      "del_B = 0;\n",
      "del_C = 0;\n",
      "del_D = 0;\n",
      "for i in range(3):\n",
      "    del_A = del_A+n[i]*A[i];\n",
      "    del_B = del_B+n[i]*B[i];\n",
      "    del_C = del_C+n[i]*C[i];\n",
      "    del_D = del_D+n[i]*D[i];\n",
      "\n",
      "I = IDCPH(T0,T,del_A,del_B,del_C,del_D);\n",
      "del_H = round(del_H_298+(R*I/10**3),3);\n",
      "\n",
      "# Results\n",
      "print 'Standard Heat Of Enthalpy',del_H,'KJ'\n"
     ],
     "language": "python",
     "metadata": {},
     "outputs": [
      {
       "output_type": "stream",
       "stream": "stdout",
       "text": [
        "Standard Heat Of Enthalpy -103.566 KJ\n"
       ]
      }
     ],
     "prompt_number": 6
    },
    {
     "cell_type": "heading",
     "level": 2,
     "metadata": {},
     "source": [
      "Example 4.7  page no : 66"
     ]
    },
    {
     "cell_type": "code",
     "collapsed": false,
     "input": [
      "\n",
      "import math \n",
      "from numpy import array\n",
      "\n",
      "def MCPH(T0,T,A,B,C,D):\n",
      "    t = T/T0;\n",
      "    return  (A+((B/2)*T0*(t+1))+((C/3)*T0*T0*((t**2)+t+1))+(D/(t*T0*T0)))\n",
      "\n",
      "# Variables\n",
      "#Combustion Of methane\n",
      "#CH4 + 2O2 --> CO2 + 2H2O\n",
      "R = 8.314;\n",
      "del_H_CO2 = -393509;\t\t\t#from table C.4\n",
      "del_H_O2 = -241818;\t\t\t#from table C.4\n",
      "del_H_CH4 = -74520;\t\t\t#from table C.4\n",
      "del_H_298 = del_H_CO2+(2*del_H_O2)-del_H_CH4;\n",
      "del_Hp = -del_H_298;\n",
      "\n",
      "# Calculations\n",
      "#moles of reacmath.tants\n",
      "n_CH4 = 1;\n",
      "n_O2 = 2+(0.2*2);\t\t\t#20% Excess\n",
      "n_N2 = n_O2*(79./21);\n",
      "#Moles Of Products..(CO2,H2O,O2,N2)\n",
      "np = array([1,2,0.4,9.03]);\n",
      "#A..from Table C.1 \n",
      "A = array([5.457,3.470,3.639,3.280]);\n",
      "#B..from Table C.1\n",
      "B = (10**-3)*array([1.045,1.450,0.506,0.593]);\n",
      "#C..from Table C.1\n",
      "C = (10**-6)*array([0,0,0,0]);\n",
      "#D..From table C.1\n",
      "D = (10**5)*array([-1.157,0.121,-0.227,0.040]);\n",
      "\n",
      "E_A = 0;\n",
      "E_B = 0;\n",
      "E_C = 0;\n",
      "E_D = 0;\n",
      "for i in range(4):\n",
      "    E_A = E_A+np[i]*A[i];\n",
      "    E_B = E_B+np[i]*B[i];\n",
      "    E_C = E_C+np[i]*C[i];\n",
      "    E_D = E_D+np[i]*D[i];\n",
      "\n",
      "T0 = 298.15;\n",
      "a = (T0);\t\t\t#Initial\n",
      "i = -1\n",
      "while (i == -1):\n",
      "    b = R*MCPH(T0,a,E_A,E_B,E_C,E_D);\n",
      "    c = b*(a-T0);\n",
      "    flag = del_Hp-c;\n",
      "    if(flag <= 100):\n",
      "        T = a-1;\n",
      "        i = 1;\n",
      "    else:\n",
      "        a = a+1; \n",
      "        i = -1;\n",
      "\n",
      "# Results\n",
      "print 'Temperature Required(Approx)',T,'K'\n"
     ],
     "language": "python",
     "metadata": {},
     "outputs": [
      {
       "output_type": "stream",
       "stream": "stdout",
       "text": [
        "Temperature Required(Approx) 2065.15 K\n"
       ]
      }
     ],
     "prompt_number": 7
    },
    {
     "cell_type": "heading",
     "level": 2,
     "metadata": {},
     "source": [
      " Example 4.8  page no : 68"
     ]
    },
    {
     "cell_type": "code",
     "collapsed": false,
     "input": [
      "import math \n",
      "\n",
      "def MCPH(T0,T,A,B,C,D):\n",
      "    t = T/T0;\n",
      "    return (A+((B/2)*T0*(t+1))+((C/3)*T0*T0*((t**2)+t+1))+(D/(t*T0*T0)))\n",
      "\n",
      "#CH4 + H2O --> CO + 3H2 (A)\n",
      "#CH4 + 2H2O --> CO2 + 4H2  (B)\n",
      "del_H_A = 205813.\t\t\t#J\n",
      "del_H_B = 164647.\t\t\t#J\n",
      "#0.87 mol of CH4 for (A) (1-0.87)mol of CH4 for (B)\n",
      "del_H_298 = (0.87*del_H_A)+(0.13*del_H_B);\n",
      "R = 8.314;\n",
      "T0 = 298.15;\n",
      "T_A = 600.; \t\t\t#Cooled\n",
      "T_B = 1300.;\t\t\t#Heated\n",
      "\n",
      "# Calculations\n",
      "#Moles of reactants (CH4,H2O)\n",
      "nr = [1,2];\n",
      "#Moles of Products (CO,H2,CO2,H2O)\n",
      "np = [0.87,3.13,0.13,0.87];\n",
      "#For Reacmath.tants\n",
      "#for CH4\n",
      "I1 = MCPH(T0,T_A,1.702,9.081*(10**-3),-2.164*(10**-6),0);\n",
      "#For H2O\n",
      "I2 = MCPH(T0,T_A,3.470,1.450*(10**-3),0,0.121*(10**5));\n",
      "del_Hr = R*((nr[0]*I1)+(nr[1]*I2))*(T0-T_A);\t\t\t#J\n",
      "#For Products\n",
      "#for CO\n",
      "I1 = MCPH(T0,T_B,3.376,0.557*(10**-3),0,-0.031*(10**5));\n",
      "#For H2\n",
      "I2 = MCPH(T0,T_B,3.249,0.422*(10**-3),0,0.083*(10**5));\n",
      "#for CO2\n",
      "I3 = MCPH(T0,T_B,5.457,1.045*(10**-3),0,-1.157*(10**5));\n",
      "#For H2O\n",
      "I4 = MCPH(T0,T_B,3.470,1.450*(10**-3),0,0.121*(10**5));\n",
      "del_Hp = R*((np[0]*I1)+(np[1]*I2)+(np[2]*I3)+(np[3]*I4))*(T_B-T0);\t\t\t#J\n",
      "#del_H\n",
      "del_H = del_H_298+del_Hr+del_Hp;\n",
      "Q = round(del_H,-1);\n",
      "\n",
      "# Results\n",
      "print 'Heat Required',Q,'J'\n"
     ],
     "language": "python",
     "metadata": {},
     "outputs": [
      {
       "output_type": "stream",
       "stream": "stdout",
       "text": [
        "Heat Required 328010.0 J\n"
       ]
      }
     ],
     "prompt_number": 8
    }
   ],
   "metadata": {}
  }
 ]
}