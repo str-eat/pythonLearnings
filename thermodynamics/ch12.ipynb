{
 "metadata": {
  "name": "",
  "signature": "sha256:6c1cf211e477e6ec4eda14a487dac19aefa6fb259944b68f0e581a0fdd608d5c"
 },
 "nbformat": 3,
 "nbformat_minor": 0,
 "worksheets": [
  {
   "cells": [
    {
     "cell_type": "heading",
     "level": 1,
     "metadata": {},
     "source": [
      "Chapter 12 : Solution Thermodynamics Applications"
     ]
    },
    {
     "cell_type": "heading",
     "level": 2,
     "metadata": {},
     "source": [
      "Example 12.1 page no : 196"
     ]
    },
    {
     "cell_type": "code",
     "collapsed": false,
     "input": [
      "%matplotlib inline\n",
      "from matplotlib.pyplot import plot,suptitle,xlabel,ylabel,subplot\n",
      "from numpy import zeros,array,exp,round\n",
      "import math \n",
      "\n",
      "# Variables\n",
      "P = array([90.15,91.78,88.01,81.67,78.89,76.82,73.39,66.45,62.95,57.70,50.16,45.70,29.00]);\n",
      "x1 = array([0.000,0.063,0.248,0.372,0.443,0.508,0.561,0.640,0.702,0.763,0.834,0.874,1.000]);\n",
      "y1 = array([0.000,0.049,0.131,0.182,0.215,0.248,0.268,0.316,0.368,0.412,0.490,0.570,1.000]);\n",
      "x2 = 1-x1;\n",
      "y2 = 1-y1;\n",
      "P1_sat = P[12]\n",
      "P2_sat = P[0]\n",
      "K = zeros(13);\n",
      "ln_V1 = zeros(13)\n",
      "ln_V2 = zeros(13)\n",
      "# Calculations and Results\n",
      "for i in range(13):\n",
      "    if(i !=  0):\n",
      "        ln_V1[i] = round(math.log(y1[i]*P[i]/(x1[i]*P1_sat)),3);\n",
      "    if(i !=  12):\n",
      "        ln_V2[i] = round(math.log(y2[i]*P[i]/(x2[i]*P2_sat)),3);\n",
      "\n",
      "ln_V1[0] = None\n",
      "ln_V2[12] = None\n",
      "k = zeros(13)\n",
      "for i in range(1,13):\n",
      "    K[i] = round(((x1[i]*ln_V1[i])+(x2[i]*ln_V2[i]))/(x1[i]*x2[i]),3);  \t\t\t#K = G_E/(x1*x2*R*T)\n",
      "    k[i] = round(((x1[i]*ln_V1[i])+(x2[i]*ln_V2[i])),3);  \t\t\t#K = G_E/(R*T)\n",
      "\n",
      "K[0] = None\n",
      "k[0] = None\n",
      "K[12] = None\n",
      "k[12] = None\n",
      "A21 = 0.70;\n",
      "A12 = 1.35;\n",
      "K_new = round((A21*x1)+(A12*x2),3);\n",
      "#Using Eqn (12.10(a) and 12.10(b))\n",
      "ln_V1_new = round((x2*x2)*(A12+(2*(A21-A12)*x1)),3);\n",
      "V1_new = round(exp(ln_V1_new),3);\n",
      "ln_V2_new = round((x1*x1)*(A21+(2*(A12-A21)*x2)),3);\n",
      "V2_new = round(exp(ln_V2_new),3);\n",
      "#Using Eqn (12.11)\n",
      "P_new = (x1*V1_new*P1_sat)+(x2*V2_new*P2_sat);\n",
      "\n",
      "A21_new = 0.596;\n",
      "A12_new = 1.153;\n",
      "\n",
      "K_new1 = round((A21_new*x1)+(A12_new*x2),3);\n",
      "#Umath.sing Eqn (12.10(a) and 12.10(b))\n",
      "ln_V1_new1 = round((x2*x2)*(A12_new+(2*(A21_new-A12_new)*x1)),3);\n",
      "V1_new1 = round(exp(ln_V1_new1),3);\n",
      "ln_V2_new1 = round((x1*x1)*(A21_new+(2*(A12_new-A21_new)*x2)),3);\n",
      "V2_new1 = round(exp(ln_V2_new1),3);\n",
      "#Umath.sing Eqn (12.11)\n",
      "P_new1 = (x1*V1_new1*P1_sat)+(x2*V2_new1*P2_sat);\n",
      "\n",
      "subplot(220)\n",
      "plot(x1,P,'bo')\n",
      "plot(y1,P,'gs')\n",
      "\n",
      "plot(x1,P_new,'b-')\n",
      "plot(y1,P_new,'g-')\n",
      "\n",
      "plot(x1,P_new1,'b--')\n",
      "plot(y1,P_new1,'g--')\n",
      "\n",
      "suptitle('(a)')\n",
      "xlabel('x1,y1')\n",
      "ylabel('P/kPa')\n",
      "\n",
      "subplot(222)\n",
      "plot(x1,ln_V1,'bs')\n",
      "plot(x1,ln_V2,'gv')   \n",
      "\n",
      "plot(x1,K,'ro')   \n",
      "\n",
      "plot(x1,K_new,'r-')\n",
      "plot(x1,ln_V1_new,'b-')\n",
      "plot(x1,ln_V2_new,'g-')\n",
      "\n",
      "plot(x1,K_new1,'r--')\n",
      "plot(x1,ln_V1_new1,'b--')\n",
      "plot(x1,ln_V2_new1,'g--')\n"
     ],
     "language": "python",
     "metadata": {},
     "outputs": [
      {
       "metadata": {},
       "output_type": "pyout",
       "prompt_number": 6,
       "text": [
        "[<matplotlib.lines.Line2D at 0x10fccef90>]"
       ]
      },
      {
       "metadata": {},
       "output_type": "display_data",
       "png": "[encoded data removed]",
       "text": [
        "<matplotlib.figure.Figure at 0x10fccca10>"
       ]
      }
     ],
     "prompt_number": 6
    },
    {
     "cell_type": "heading",
     "level": 2,
     "metadata": {},
     "source": [
      "Example 12.2 page no : 198"
     ]
    },
    {
     "cell_type": "code",
     "collapsed": false,
     "input": [
      "from numpy import poly1d\n",
      "\n",
      "#H_E = x1x2(40x1+20x2)   (A)\n",
      "#Find H1_E and H2_E\n",
      "\n",
      "#H1_E = H_E+((1-x1)*(dH_E/dx1))  let d = dH_E/dx1\n",
      "\n",
      "#H2_E = H_E-(x1*(dH_E/dx1))  let d = dH_E/dx1\n",
      "\n",
      "#Replacing x2 = 1-x1 in (A)\n",
      "\n",
      "# Calculations\n",
      "H_E = poly1d([0, 20, 0, -20],'x1','c');\n",
      "d = poly1d([20 ,0 ,-60],'x1','c');\n",
      "H1_E = poly1d([20, 0, -60, 40],'x1','c');\n",
      "H2_E = poly1d([0 ,0 ,0 ,40],'x1','c');\n",
      "\n",
      "# Results\n",
      "print 'Expression For H1_E(x1) is ',H1_E\n",
      "print 'Expression For H2_E(x1) is ',H2_E\n"
     ],
     "language": "python",
     "metadata": {},
     "outputs": [
      {
       "output_type": "stream",
       "stream": "stdout",
       "text": [
        "Expression For H1_E(x1) is     4        2\n",
        "1 c - 2800 c + 4.8e+04 c\n",
        "Expression For H2_E(x1) is     4      3\n",
        "1 c - 40 c\n"
       ]
      }
     ],
     "prompt_number": 7
    },
    {
     "cell_type": "heading",
     "level": 2,
     "metadata": {},
     "source": [
      "Example 12.4 page no : 201"
     ]
    },
    {
     "cell_type": "code",
     "collapsed": false,
     "input": [
      "# Program to Find the Heat of Formation of LiCl\n",
      "\n",
      "#          Li + 0.5Cl2 --> LiCL(s)       (A)\n",
      "\n",
      "#   LiCl(s) + 12H2O(l) --> LiCl(12H2O)   (B)\n",
      "\n",
      "#Net Reaction\n",
      "#Li + 0.5Cl2 +12H2O(l) --> LiCl(12H2O)   (Net)\n",
      "\n",
      "# Variables\n",
      "#From Table C.4\n",
      "Hf_A = -408610;\t\t\t#[J]\n",
      "Hf_B = -33614;\t\t\t#[J]\n",
      "\n",
      "# Calculations\n",
      "Hf_Net = Hf_A+Hf_B;\t\t\t#[J]\n",
      "\n",
      "# Results\n",
      "print 'Heat of formation of LiCl in 12mol H2O at 298.15K is',Hf_Net,'J'\n"
     ],
     "language": "python",
     "metadata": {},
     "outputs": [
      {
       "output_type": "stream",
       "stream": "stdout",
       "text": [
        "Heat of formation of LiCl in 12mol H2O at 298.15K is -442224 J\n"
       ]
      }
     ],
     "prompt_number": 10
    },
    {
     "cell_type": "heading",
     "level": 2,
     "metadata": {},
     "source": [
      "Example 12.5  page no : 204"
     ]
    },
    {
     "cell_type": "code",
     "collapsed": false,
     "input": [
      "import math \n",
      "\n",
      "\n",
      "# Variables\n",
      "M_LiCl = 42.39;\n",
      "M_H2O = 18.015;\n",
      "T1 = 298.15;\t\t\t#[K]\n",
      "T2 = 405.15;\t\t\t#[K]\n",
      "\n",
      "# Calculations and Results\n",
      "#Step a\n",
      "m_LiCl = 0.15*2;\n",
      "m_H2O = 2-m_LiCl;\n",
      "n_LiCl = (m_LiCl*1000)/M_LiCl\n",
      "n_H2O = (m_H2O*1000)/M_H2O;\n",
      "dH_LiCl = -33800;\n",
      "dH_a = -n_LiCl*dH_LiCl\t\t\t#[J/s]\n",
      "\n",
      "#Step b\n",
      "m_LiCl = 0.15*2;\n",
      "m_H2O = 0.45;\n",
      "n_LiCl = (m_LiCl*1000)/M_LiCl;\n",
      "n_H2O = (m_H2O*1000)/M_H2O;\n",
      "dH_LiCl = -23260;\n",
      "dH_b = n_LiCl*dH_LiCl\t\t\t#[J/s]\n",
      "\n",
      "#Step c\n",
      "m_LiCl = 0.75;\n",
      "Cp = 2.72;\n",
      "dT = T2-T1;\n",
      "dH_c = m_LiCl*Cp*dT*1000\t\t\t#[J/s]\n",
      "\n",
      "#step d\n",
      "m_H2O = 2-m_LiCl;\n",
      "dH_T2 = 2740.3;\t\t\t#[KJ/s/mol] form Steam Tables\n",
      "dH_T1 = 104.8;\t\t\t#[KJ/s/mol]  from Steam Tables\n",
      "dH_d = m_H2O*(dH_T2-dH_T1)*1000\t\t\t#[J/s]\n",
      "\n",
      "dH = round((dH_a+dH_b+dH_c+dH_d)/1000,1);\n",
      "\n",
      "print 'The required Heat Transfer rate is ',dH,'kW or KJ/s'\n"
     ],
     "language": "python",
     "metadata": {},
     "outputs": [
      {
       "output_type": "stream",
       "stream": "stdout",
       "text": [
        "The required Heat Transfer rate is  3587.2 kW or KJ/s\n"
       ]
      }
     ],
     "prompt_number": 9
    },
    {
     "cell_type": "heading",
     "level": 2,
     "metadata": {},
     "source": [
      "Example 12.6  page no : 207"
     ]
    },
    {
     "cell_type": "code",
     "collapsed": false,
     "input": [
      "\n",
      "# Variables\n",
      "T0 = 298.15;\t\t\t#[K]\n",
      "T = 361.5;\t\t\t#[K]\n",
      "mT = 1.25;\t\t\t#[Kg/s]  10% NaOH\n",
      "m_steam = 1;\t\t\t#[Kg/s] at P = 76 torr and 361.5K\n",
      "m_50NaOH = mT-m_steam;\t\t\t#[Kg/s]  at 361.5K\n",
      "\n",
      "# Calculations\n",
      "#From Steam tables\n",
      "#at 76 torr and 361.15K\n",
      "H_steam = 2666;\t\t\t#[KJ/kg]\n",
      "#for 10% NaOH soln at 294.15K\n",
      "H_10NaOH = 79;\t\t\t#[KJ/Kg]\n",
      "#for 50% NaOH soln at 361.15K\n",
      "H_50NaOH = 500;\t\t\t#[KJ/Kg]\n",
      "\n",
      "dH = (m_steam*H_steam)+(m_50NaOH*H_50NaOH)-(mT*H_10NaOH);\n",
      "Q = dH;\n",
      "\n",
      "# Results\n",
      "print 'Heat Transfer rate',Q,'kW or kJ/s'\n"
     ],
     "language": "python",
     "metadata": {},
     "outputs": [
      {
       "output_type": "stream",
       "stream": "stdout",
       "text": [
        "Heat Transfer rate 2692.25 kW or kJ/s\n"
       ]
      }
     ],
     "prompt_number": 10
    },
    {
     "cell_type": "heading",
     "level": 2,
     "metadata": {},
     "source": [
      "Example 12.9 page no : 208"
     ]
    },
    {
     "cell_type": "code",
     "collapsed": false,
     "input": [
      "\n",
      "\n",
      "# Variables\n",
      "T = 294.15;\t\t                \t        #[K]\n",
      "m_NaOH_soln = 1.;\t\t            \t    #[kg]\n",
      "m_NaOH_solid = 0.45*m_NaOH_soln;\t\t\t#[Kg]\n",
      "m_H2O = 0.55*m_NaOH_soln;\t\t\t#[Kg]\n",
      "\n",
      "#From Steam Tables\n",
      "H_NaOH_soln = 216.;\t\t\t#[kJ/Kg]\n",
      "H_NaOH_solid = 1113.;\t\t\t#[kJ/Kg]\n",
      "H_H2O = 88.;\t\t\t#[kJ/Kg]\n",
      "\n",
      "# Calculations\n",
      "dH = m_NaOH_soln*H_NaOH_soln-(m_NaOH_solid*H_NaOH_solid)-(m_H2O*H_H2O);\n",
      "Q = dH;\n",
      "\n",
      "# Results\n",
      "print 'Heat Transferred per Kg of NaOH Soln',Q,'kW or kJ/kg'\n"
     ],
     "language": "python",
     "metadata": {},
     "outputs": [
      {
       "output_type": "stream",
       "stream": "stdout",
       "text": [
        "Heat Transferred per Kg of NaOH Soln -333.25 kW or kJ/kg\n"
       ]
      }
     ],
     "prompt_number": 11
    }
   ],
   "metadata": {}
  }
 ]
}