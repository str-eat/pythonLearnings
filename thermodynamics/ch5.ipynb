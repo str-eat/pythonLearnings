{
 "metadata": {
  "name": "",
  "signature": "sha256:024b9d7771bbe4628d74b363d14eba14271b9f516fb30061a6ffe76236d4e63e"
 },
 "nbformat": 3,
 "nbformat_minor": 0,
 "worksheets": [
  {
   "cells": [
    {
     "cell_type": "heading",
     "level": 1,
     "metadata": {},
     "source": [
      "Chapter 5 : The second law of Thermodynamics"
     ]
    },
    {
     "cell_type": "heading",
     "level": 2,
     "metadata": {},
     "source": [
      "Example 5.1 page no : 71"
     ]
    },
    {
     "cell_type": "code",
     "collapsed": false,
     "input": [
      "# Variables\n",
      "Tc = 295.;\t\t\t#K\n",
      "Th = 585.;\t\t\t#K\n",
      "W = 800000.;\t\t\t#KW\n",
      "\n",
      "# Calculations\n",
      "n_max = 1-(Tc/Th);\n",
      "n = round(0.7*n_max,3)\n",
      "Qc = round(((1-n)/n)*W,-2);\n",
      "\n",
      "# Results\n",
      "print 'Heat required',Qc,'KW'\n"
     ],
     "language": "python",
     "metadata": {},
     "outputs": [
      {
       "output_type": "stream",
       "stream": "stdout",
       "text": [
        "Heat required 1505500.0 KW\n"
       ]
      }
     ],
     "prompt_number": 2
    },
    {
     "cell_type": "heading",
     "level": 2,
     "metadata": {},
     "source": [
      "Example 5.3 page no : 72"
     ]
    },
    {
     "cell_type": "code",
     "collapsed": false,
     "input": [
      "import math \n",
      "\n",
      "def MCPS(T0,T,A,B,C,D):\n",
      "    t = T/T0;\n",
      "    return (A)+(((B*T0)+(((C*T0*T0)+(D/(t*t*T0*T0)))*(t+1)/2))*((t-1)/math.log(t)))\n",
      "\n",
      "\n",
      "# Variables\n",
      "P2 = 1.;\t\t\t#bar\n",
      "P1 = 5.;\t\t\t#bar\n",
      "T0 = 550.;\t\t\t#K\n",
      "A = 1.702;\n",
      "B = 9.081*(10**-3);\n",
      "C = -2.164*(10**-6);\n",
      "D = 0;\n",
      "\n",
      "#Equation to be used\n",
      "#(<Cp>s/R)ln(T2/T1) = ln(P2/P1) math.since del_S = 0\n",
      "#let I = (<Cp>s/R)\n",
      "\n",
      "# Calculations\n",
      "a = T0-1;\t\t\t#Initial\n",
      "i = -1;\n",
      "while (i == -1):\n",
      "    b = MCPS(T0,a,A,B,C,D);\n",
      "    c = (math.log(1./5))/(math.log(a/T0));\n",
      "    flag = c-b;\n",
      "    if(flag <= 0.0001):\n",
      "        T = a;\n",
      "        i = 1;\n",
      "    else:\n",
      "        a = a-.01; \n",
      "        i = -1;\n",
      "\n",
      "# Results\n",
      "print 'Final Temperature',T,'K'\n"
     ],
     "language": "python",
     "metadata": {},
     "outputs": [
      {
       "output_type": "stream",
       "stream": "stdout",
       "text": [
        "Final Temperature 411.33 K\n"
       ]
      }
     ],
     "prompt_number": 3
    },
    {
     "cell_type": "heading",
     "level": 2,
     "metadata": {},
     "source": [
      "Example 5.4 page no : 73"
     ]
    },
    {
     "cell_type": "code",
     "collapsed": false,
     "input": [
      "import math \n",
      "from scipy.integrate import quad \n",
      "\n",
      "# Variables\n",
      "\n",
      "#For Casting\n",
      "Cp_Casting = 0.5;\t\t\t#[KJ/Kg/K]\n",
      "T1 = 723.15 \t    \t\t#[K]\n",
      "T0 = 298.15\t    \t    \t#[K]\n",
      "M_Casting = 40.\t\t\t    #[Kg]\n",
      "#For Oil\n",
      "Cp_Oil = 2.5    \t\t\t#[KJ/Kg/K]\n",
      "M_Oil = 150.\t    \t\t#[Kg]\n",
      "\n",
      "# Calculations and Results\n",
      "T = ((T1*M_Casting*Cp_Casting)+(T0*M_Oil*Cp_Oil))/((M_Casting*Cp_Casting)+(M_Oil*Cp_Oil));\n",
      "\n",
      "#(a)-change in entropy For casting\n",
      "def f1(T): \n",
      "    return 1./T\n",
      "\n",
      "del_S_Casting = round(M_Casting*Cp_Casting* quad(f1,T1,T)[0],2)\n",
      "\n",
      "print '(a)Change In Entropy of Casting',del_S_Casting,'KJ/K'\n",
      "\n",
      "#(b)-change in entropy For Oil\n",
      "def f2(T): \n",
      "    return 1./T\n",
      "\n",
      "del_S_Oil = round(M_Oil*Cp_Oil* quad(f2,T0,T)[0],2)\n",
      "\n",
      "print '(b)Change In Entropy of Oil',del_S_Oil,'KJ/K'\n",
      "\n",
      "#(c)-Total\n",
      "del_S_total = del_S_Casting+del_S_Oil;\n",
      "print '(c)Total entropy change',del_S_total,'KJ/K'\n"
     ],
     "language": "python",
     "metadata": {},
     "outputs": [
      {
       "output_type": "stream",
       "stream": "stdout",
       "text": [
        "(a)Change In Entropy of Casting -16.33 KJ/K\n",
        "(b)Change In Entropy of Oil 26.13 KJ/K\n",
        "(c)Total entropy change 9.8 KJ/K\n"
       ]
      }
     ],
     "prompt_number": 4
    },
    {
     "cell_type": "heading",
     "level": 2,
     "metadata": {},
     "source": [
      "Example 5.5 page no : 75"
     ]
    },
    {
     "cell_type": "code",
     "collapsed": false,
     "input": [
      "import math \n",
      "\n",
      "# Variables\n",
      "\n",
      "#Gas A\n",
      "rn_A = 1.;\t\t\t#rate[mol/s]\n",
      "T_A = 600.;\t\t\t#[K]\n",
      "\n",
      "#Gas B\n",
      "rn_B = 2.;\t\t\t#rate[mol/s]\n",
      "T_B = 450.;\t\t\t#[K]\n",
      "\n",
      "#product\n",
      "rn = rn_A+rn_B;\t\t\t#[mol/s]\n",
      "T = 400.;\t\t\t#[K]\n",
      "R = 8.314;\n",
      "Cp = (7./2)*R;\n",
      "T_s = 300.;\t\t\t#Temperature[K]\n",
      "\n",
      "# Calculations\n",
      "#By equation (2.30) rQ = rn*H-rn_A*H_A-rn_B*H_B = rn_A(H-H_A)+rn_B*(H-H_B)  Rate of heat transfer\n",
      "rQ = (rn_A*Cp*(T-T_A))+(rn_B*Cp*(T-T_B));\t\t\t#[J/s] or  [W]\n",
      "#By eqn (5.22) rSg = rn*S-(rn_A*S_A)-(rn_B*S_B)-(rQ/T_s)  rate of entropy generation for the process\n",
      "rSg = round((rn_A*Cp*math.log(T/T_A))+(rn_B*Cp*math.log(T/T_B))-(rQ/T_s),3);\t\t\t#[J/K/s]\n",
      "\n",
      "# Results\n",
      "print 'Rate of heat transfer',rQ,'J/s or W'\n",
      "print 'Rate of entropy generation',rSg,'J/K/s'\n"
     ],
     "language": "python",
     "metadata": {},
     "outputs": [
      {
       "output_type": "stream",
       "stream": "stdout",
       "text": [
        "Rate of heat transfer -8729.7 J/s or W\n",
        "Rate of entropy generation 10.446 J/K/s\n"
       ]
      }
     ],
     "prompt_number": 6
    },
    {
     "cell_type": "heading",
     "level": 2,
     "metadata": {},
     "source": [
      "Example 5.6  page no : 77"
     ]
    },
    {
     "cell_type": "code",
     "collapsed": false,
     "input": [
      "import math \n",
      "\n",
      "# Variables\n",
      "#Saturated Steam\n",
      "#At T = 373.15K \n",
      "H1 = 2676.\t    \t\t#[KJ/Kg] from Steam table(App F)\n",
      "S1 = 7.3554\t\t    \t#[KJ/Kg/K] from steam table(App F)\n",
      "#At T = 273.15K  Liquid water\n",
      "H2 = 0;\n",
      "S2 = 0;\n",
      "\n",
      "T_sigma = 273.15;\t\t\t#[K]\n",
      "T_r = 473.15;\t\t    \t#[K]\n",
      "Q_r = -2000.;\t\t\t    #[KJ]\n",
      "\n",
      "del_H = H2-H1;\n",
      "Q = del_H;\n",
      "Q_sigma = Q-Q_r;\n",
      "\n",
      "# Calculations and Results\n",
      "del_S = S2-S1;\n",
      "#For Heat Reservoir at 473.15K\n",
      "del_St_T_r = (-Q_r/T_r);\t\t\t#[KJ/K]\n",
      "#For Heat reservoir provided by cooling water at 273.15K\n",
      "del_St_T_sigma = -Q_sigma/T_sigma;\n",
      "del_S_total = del_S+del_St_T_r+del_St_T_sigma;\n",
      "print ('Since del_S_total<0 Process not feasible')\n",
      "\n",
      "#Actual\n",
      "Q_r = round((T_r/(T_r-T_sigma))*(del_H-(T_sigma*del_S)),1);\n",
      "print 'Actual Heat transfer',Q_r,'KJ/Kg'\n",
      "\n",
      "\n"
     ],
     "language": "python",
     "metadata": {},
     "outputs": [
      {
       "output_type": "stream",
       "stream": "stdout",
       "text": [
        "Since del_S_total<0 Process not feasible\n",
        "Actual Heat transfer -1577.7 KJ/Kg\n"
       ]
      }
     ],
     "prompt_number": 7
    },
    {
     "cell_type": "heading",
     "level": 2,
     "metadata": {},
     "source": [
      "Example 5.7 page no : 78"
     ]
    },
    {
     "cell_type": "code",
     "collapsed": false,
     "input": [
      "import math \n",
      "\n",
      "def ICPH(T0,T,A,B,C,D):\n",
      "    t = T/T0;\n",
      "    return (A+((B/2)*T0*(t+1))+((C/3)*T0*T0*((t**2)+t+1))+(D/(t*T0*T0)))*(T-T0)\n",
      "\n",
      "def ICPS(T0,T,A,B,C,D):\n",
      "    t = T/T0;\n",
      "    return ((A)*math.log(t))+(((B*T0)+(((C*T0*T0)+(D/(t*t*T0*T0)))*(t+1)/2))*(t-1))\n",
      "\n",
      "\n",
      "# Variables\n",
      "P1 = 50.\t\t\t#bar\n",
      "P2 = 1.013\t\t\t#bar\n",
      "T1 = 800.\t\t\t#[K]\n",
      "T2 = 300.\t\t\t#[K]\n",
      "R = 8.314\n",
      "\n",
      "# Calculations\n",
      "#del_H = intergral(CpdT) in the limits T1 and T2\n",
      "A = 3.280;\n",
      "B = 0.593*(10**-3);\n",
      "C = 0;\n",
      "D = 0.040*(10**5);\n",
      "del_H = R*ICPH(T1,T2,A,B,C,D);\t\t\t#[J/mol]\n",
      "\n",
      "#del_S = integral[Cp(dT/T)] -Rln(P2/P1)  btw the limits T1,T2\n",
      "del_S = (R*ICPS(T1,T2,A,B,C,D))-(R*math.log(P2/P1));\t\t\t#[J/mol/K]\n",
      "W_ideal = round(del_H-(T2*del_S),0);\t\t\t#[J/mol]\n",
      "\n",
      "# Results\n",
      "print 'Maximum Work',W_ideal,'J/mol'\n"
     ],
     "language": "python",
     "metadata": {},
     "outputs": [
      {
       "output_type": "stream",
       "stream": "stdout",
       "text": [
        "Maximum Work -15974.0 J/mol\n"
       ]
      }
     ],
     "prompt_number": 8
    },
    {
     "cell_type": "heading",
     "level": 2,
     "metadata": {},
     "source": [
      "Example 5.8 page no : 81"
     ]
    },
    {
     "cell_type": "code",
     "collapsed": false,
     "input": [
      "\n",
      "import math \n",
      "\n",
      "# Variables\n",
      "#Saturated Steam\n",
      "#At T = 373.15K \n",
      "H1 = 2676.;\t\t\t#[KJ/Kg] from Steam table(App F)\n",
      "S1 = 7.3554;\t\t\t#[KJ/Kg/K] from steam table(App F)\n",
      "#At T = 273.15K  Liquid water\n",
      "H2 = 0;\n",
      "S2 = 0;\n",
      "\n",
      "T_sigma = 273.15;\t\t\t#[K]\n",
      "T_r = 473.15;\t\t\t#[K]\n",
      "\n",
      "# Calculations\n",
      "del_H = H2-H1;\n",
      "del_S = S2-S1;\n",
      "W_ideal = del_H-(T_sigma*del_S);\t\t\t#[KJ/Kg]\n",
      "Q = round(abs(W_ideal*(T_r/(T_sigma-T_r))),1);\t\t\t#[KJ]\n",
      "\n",
      "# Results\n",
      "print 'Maximum Possible Work',Q,'KJ'\n"
     ],
     "language": "python",
     "metadata": {},
     "outputs": [
      {
       "output_type": "stream",
       "stream": "stdout",
       "text": [
        "Maximum Possible Work 1577.7 KJ\n"
       ]
      }
     ],
     "prompt_number": 9
    },
    {
     "cell_type": "heading",
     "level": 2,
     "metadata": {},
     "source": [
      "Example 5.9 page no : 83"
     ]
    },
    {
     "cell_type": "code",
     "collapsed": false,
     "input": [
      "%matplotlib inline\n",
      "\n",
      "import math \n",
      "from matplotlib.pyplot import plot,suptitle,xlabel,ylabel\n",
      "\n",
      "\n",
      "# Variables\n",
      "T_H1 = 400.;\t\t\t#[K]\n",
      "T_H2 = 350.;\t\t\t#[K]\n",
      "T_C1 = 300.;\t\t\t#[K]\n",
      "T_sigma = 300.;\t\t\t#[K]\n",
      "rn_H = 1.;\t\t\t#[mol/s]\n",
      "R = 8.314;\n",
      "Cp = (7./2)*R;\n",
      "\n",
      "T_C2_a = T_H2-10;\n",
      "T_C2_b = T_H1-10;\n",
      "\n",
      "# Calculations and Results\n",
      "\n",
      "X = [0,1];\n",
      "Y = [T_C1,T_C2_a];\n",
      "plot(X,Y);\n",
      "Y = [T_H1,T_H2];\n",
      "plot(X,Y);\n",
      "\n",
      "X = [1,1];\n",
      "Y = [290,410];\n",
      "plot(X,Y);\n",
      "X = [0,0.25];\n",
      "Y = [T_C1,T_C1];\n",
      "plot(X,Y,'--');\n",
      "Y = [T_H1,T_H1];\n",
      "plot(X,Y,'--');\n",
      "X = [0.75,1];\n",
      "Y = [T_C2_a,T_C2_a];\n",
      "plot(X,Y,'--');\n",
      "Y = [T_H2,T_H2];\n",
      "plot(X,Y,'--');\n",
      "suptitle(\"(a)Case 1,Cocurrent\")\n",
      "xlabel(\"Qc\")\n",
      "ylabel(\"T\");\n",
      "\n",
      "X = [0,1];\n",
      "Y = [T_C1,T_C2_b];\n",
      "plot(X,Y);\n",
      "Y = [T_H2,T_H1];\n",
      "plot(X,Y);\n",
      "X = [1,1];\n",
      "Y = [290,410];\n",
      "plot(X,Y);\n",
      "X = [0,0.25];\n",
      "Y = [T_C1,T_C1];\n",
      "plot(X,Y,'--');\n",
      "Y = [T_H2,T_H2];\n",
      "plot(X,Y,'--');\n",
      "X = [0.75,1];\n",
      "Y = [T_C2_b,T_C2_b];\n",
      "plot(X,Y,'--');\n",
      "Y = [T_H1,T_H1];\n",
      "plot(X,Y,'--');\n",
      "suptitle(\"(b)Case 2,Countercurrent\")\n",
      "xlabel(\"Qc\")\n",
      "ylabel(\"T\");\n",
      "\n",
      "#Solution\n",
      "#Equation to be used\n",
      "#(rn_H*Cp(T_H2-T_H1))+(rn_C*Cp(T_C2-T_C1)) = 0  Eq(A)\n",
      "#del_rS = rn_H*Cp*(ln(T_H2/T_H1)+kln(T_C2/T_C1))  k = rn_C/rn_H  r-->Rate  Eqn(B)\n",
      "#rW_lost = T_sigma*del_rS  Eqn(C)\n",
      "\n",
      "#(a)-Cocurrent\n",
      "#by Eqn(A)\n",
      "T_C2_a = T_H2-10;\n",
      "k = (T_H1-T_H2)/(T_C2_a-T_C1);\t\t\t#k = rn_C/rn_H\n",
      "#By Eqn(B)\n",
      "del_rS = round(rn_H*Cp*(math.log(T_H2/T_H1)+(k*math.log(T_C2_a/T_C1))),3);\t\t\t#[J/K/s]\n",
      "#By Eqn(C)\n",
      "rW_lost = round(T_sigma*del_rS,1);\t\t\t#[J/s]or[W]\n",
      "print ('(a)-Cocurrent')\n",
      "print 'Rate Of change of entropy',del_rS,'J/K/s'\n",
      "print 'Lost Work',rW_lost,'J/s or W'\n",
      "\n",
      "#(b)-Countercurrent\n",
      "T_C2_b = T_H1-10;\n",
      "k = (T_H1-T_H2)/(T_C2_b-T_C1);\t\t\t#k = rn_C/rn_H\n",
      "#By Eqn(B)\n",
      "del_rS = round(rn_H*Cp*(math.log(T_H2/T_H1)+(k*math.log(T_C2_b/T_C1))),3);\t\t\t#[J/K/s]\n",
      "#By Eqn(C)\n",
      "rW_lost = round(T_sigma*del_rS,1);\t\t\t#[J/s]or[W]\n",
      "print ('(b)-Countercurrent')\n",
      "print 'Rate Of change of entropy',del_rS,'J/K/s'\n",
      "print 'Lost Work',rW_lost,'J/s or W'\n"
     ],
     "language": "python",
     "metadata": {},
     "outputs": [
      {
       "output_type": "stream",
       "stream": "stdout",
       "text": [
        "(a)-Cocurrent\n",
        "Rate Of change of entropy 0.667 J/K/s\n",
        "Lost Work 200.1 J/s or W\n",
        "(b)-Countercurrent\n",
        "Rate Of change of entropy 0.356 J/K/s\n",
        "Lost Work 106.8 J/s or W\n"
       ]
      },
      {
       "metadata": {},
       "output_type": "display_data",
       "png": "[encoded data removed]",
       "text": [
        "<matplotlib.figure.Figure at 0x10605a3d0>"
       ]
      }
     ],
     "prompt_number": 12
    }
   ],
   "metadata": {}
  }
 ]
}