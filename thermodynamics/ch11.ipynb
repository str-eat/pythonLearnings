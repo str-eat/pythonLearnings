{
 "metadata": {
  "name": "",
  "signature": "sha256:8a4a2e9c3fff1b1819d5290ddbbc5e41fcd04a943a3cffb4a3e2d4883b56476a"
 },
 "nbformat": 3,
 "nbformat_minor": 0,
 "worksheets": [
  {
   "cells": [
    {
     "cell_type": "heading",
     "level": 1,
     "metadata": {},
     "source": [
      "Chapter 11 : Solution Thermodynamics Theroy"
     ]
    },
    {
     "cell_type": "heading",
     "level": 2,
     "metadata": {},
     "source": [
      "Example 11.4  page no :  168"
     ]
    },
    {
     "cell_type": "code",
     "collapsed": false,
     "input": [
      "from numpy import poly1d,roots\n",
      "\n",
      "\n",
      "#H = 400x1 + 600x2 + x1x2(40x1 + 20x2)  Given\n",
      "#Substituting x2 = 1-x1\n",
      "H = poly1d([600, -180, 0, -20],'x1','c')     \t\t\t#(A)\n",
      "#K = dH/dx1\n",
      "K = poly1d([-180, 0, -60],'x1','c')\n",
      "\n",
      "# Calculations\n",
      "#Using Eqn 11.15  H1 = H+x2*K\n",
      "#substituting x2 = 1-x1\n",
      "H1 = poly1d([420, 0, -60, 40],'x1','c')     \t\t\t#(B)\n",
      "\n",
      "#Similarly for H2\n",
      "\n",
      "H2 = poly1d([600 ,0 ,0, 40],'x1','c')       \t\t\t#(C)\n",
      "#Now to calculate H1_inf and H2_inf \n",
      "#x1 = 0 in (B)\n",
      "H1_inf = 420;\t\t\t#[J/mol]\n",
      "#x2 = 0 in (C) i.e. x1 = 1\n",
      "H2_inf = 640;\t\t\t#[J/mol]\n",
      "\n",
      "# Results\n",
      "print (H1,'H1  =  ');\n",
      "print (H2,'H2  =  ');\n",
      "print ('J/mol',H1_inf,'H1_inf  =  ')\n",
      "print ('J/mol',H2_inf,'H2_inf  =  ')\n"
     ],
     "language": "python",
     "metadata": {},
     "outputs": [
      {
       "output_type": "stream",
       "stream": "stdout",
       "text": [
        "(poly1d([      1,    -400,  -10800, 1008000,       0]), 'H1  =  ')\n",
        "(poly1d([    1,  -640, 24000,     0,     0]), 'H2  =  ')\n",
        "('J/mol', 420, 'H1_inf  =  ')\n",
        "('J/mol', 640, 'H2_inf  =  ')\n"
       ]
      }
     ],
     "prompt_number": 4
    },
    {
     "cell_type": "heading",
     "level": 2,
     "metadata": {},
     "source": [
      "Example 11.5  page no : 170"
     ]
    },
    {
     "cell_type": "code",
     "collapsed": false,
     "input": [
      "%matplotlib inline\n",
      "from matplotlib.pyplot import plot,suptitle,xlabel,ylabel,subplot\n",
      "\n",
      "from numpy import array,exp,round,linspace\n",
      "import math \n",
      "\n",
      "# Variables\n",
      "#Using Eqn 11.30\n",
      "#G = t(T)+RT ln f\n",
      "#G` = t(T)+rt ln f`\n",
      "#Hence ln(f/f`)  =  (1/RT)*(G-G`)\n",
      "#G = H-TS\n",
      "#G` = H-TS`\n",
      "#ln (f/f`) = (n/R)*(((H-H`)/T)-(S-S`))   (A)\n",
      "R = 8.314;\n",
      "n = 18.015;\n",
      "f_ = 1;\t\t\t#[kPa]\n",
      "P_ = f_;\n",
      "H_ = 3076.8;\t\t\t#[J/g]\n",
      "S_ = 10.3450;\t\t\t#[J/g/K]\n",
      "T = 573.15;\t\t\t#[K]\n",
      "\n",
      "P = array([10, 50, 100, 200, 500, 1000, 1500, 2000, 2500, 3000, 3500, 4000, 4500, 5000, 5500, 6000, 6500, 7000, \\\n",
      " 7600, 8000, 8400,0]);\n",
      "H = array([3076.6, 3075.7, 3074.2, 3072.1, 3064.8, 3052.1, 3038.9, 3025 ,3010.4, 2995.1, 2979 ,2962, \\\n",
      " 2944.2, 2925.5, 2905.8, 2885 ,2862.9, 2839.4, 2808.8, 2786.8, 2763.1,0]); \n",
      "S = array([9.282, 8.5380, 8.2166, 7.8937, 7.4614, 7.1251, 6.9207, 6.7696, 6.6470, 6.5422, \\\n",
      " 6.4491, 6.3642, 6.2852, 6.2105, 6.1388, 6.0692, 6.0008, 5.9327, 5.8503, 5.7942, 5.7366,0]);\n",
      "\n",
      "# Calculations and Results\n",
      "K = round(exp((n/R)*(((H-H_)/T)-(S-S_))),0);\n",
      "\n",
      "f = K*f_;\n",
      "P[21] = 8592.7;\t\t\t#[kPa]\n",
      "P_sat = P[21]\n",
      "f[21] = 6738.9;\n",
      "f_sat = f[21]\n",
      "\n",
      "si = round(f/P,4);\n",
      "si_sat = si[21]\n",
      "\n",
      "Vl = round(1.403*n,2)\t\t\t#[cm**3/mol]\n",
      "#Umath.sing Eqn 11.41\n",
      "P_new = linspace(8592.7,10000,10);\n",
      "f_new = round(f_sat*exp(Vl*(P_new-P_sat)/(R*1000*T)),1);\n",
      "si_new = f_new/P_new;\n",
      "\n",
      "subplot(211)\n",
      "plot(P/1000,f/1000,'b')\n",
      "plot(P_new/1000,f_new/1000,'g')\n",
      "\n",
      "dotsx = [0 ,P_sat/1000];\n",
      "dotsy = [f_sat/1000, f_sat/1000];\n",
      "plot(dotsx,dotsy,'b--')\n",
      "\n",
      "dotsx = [0, f_sat/1000];\n",
      "dotsy = [P_sat/1000 ,P_sat/1000];\n",
      "plot(dotsy,dotsx,'g--')\n",
      "\n",
      "dotsx = [11,8];\n",
      "dotsx = [6,6];\n",
      "plot(dotsx,dotsy,'w')\n",
      "\n",
      "suptitle('f vs P')\n",
      "xlabel('P X 10**-3 /kPa')\n",
      "ylabel('f X 10**-3 /kPa')\n",
      "\n",
      "subplot(222)\n",
      "plot(P/1000,si,'r')\n",
      "plot(P_new/1000,si_new,'g')\n",
      "dotsx = [0, P_sat/1000];\n",
      "dotsy = [si_sat ,si_sat];\n",
      "plot(dotsx,dotsy,'g--')\n",
      "dotsx = [0.55, si_sat];\n",
      "dotsy = [P_sat/1000, P_sat/1000];\n",
      "plot(dotsy,dotsx,'r--')\n",
      "\n",
      "suptitle('si vs P')\n",
      "xlabel('P X 10**-3 /kPa')\n",
      "ylabel('si')\n",
      "\n"
     ],
     "language": "python",
     "metadata": {},
     "outputs": [
      {
       "metadata": {},
       "output_type": "pyout",
       "prompt_number": 10,
       "text": [
        "<matplotlib.text.Text at 0x10f99d990>"
       ]
      },
      {
       "metadata": {},
       "output_type": "display_data",
       "png": "[encoded data removed]",
       "text": [
        "<matplotlib.figure.Figure at 0x10f947110>"
       ]
      }
     ],
     "prompt_number": 10
    },
    {
     "cell_type": "heading",
     "level": 2,
     "metadata": {},
     "source": [
      "Example 11.7  page no : 171"
     ]
    },
    {
     "cell_type": "code",
     "collapsed": false,
     "input": [
      "import math \n",
      "\n",
      "# Variables\n",
      "T = 200.;\t\t\t#[K]\n",
      "P = 30.;\t\t\t#[bar]\n",
      "R = 83.14;\n",
      "x1 = 0.4;\t\t\t#[N2]\n",
      "x2 = 1-x1;\t\t\t#[CH4]\n",
      "\n",
      "B11 = -35.2;\t\t\t#[cm**3/mol]\n",
      "B22 = -105.;\t\t\t#[cm**3/mol]\n",
      "B12 = -59.8;\t\t\t#[cm**3/mol]\n",
      "\n",
      "# Calculations\n",
      "delta_12 = round((2*B12)-B11-B22,1);\n",
      "si_1 = round(math.exp((P/(R*T))*(B11+(x2**2*delta_12))),4);\n",
      "si_2 = round(math.exp((P/(R*T))*(B22+(x1**2*delta_12))),4);\n",
      "\n",
      "B = round((x1**2*B11)+(2*x1*x2*B12)+(x2**2*B22),2);\n",
      "Z = round(1+((B*P)/(R*T)),2);\n",
      "\n",
      "# Results\n",
      "print 'Fugacity Coefficients are ',si_2,si_1\n",
      "print 'Second Viral coefficient is ',B\n",
      "print 'Compressibility Factor is ',Z\n"
     ],
     "language": "python",
     "metadata": {},
     "outputs": [
      {
       "output_type": "stream",
       "stream": "stdout",
       "text": [
        "Fugacity Coefficients are  0.8324 0.9511\n",
        "Second Viral coefficient is  -72.14\n",
        "Compressibility Factor is  0.87\n"
       ]
      }
     ],
     "prompt_number": 11
    },
    {
     "cell_type": "heading",
     "level": 2,
     "metadata": {},
     "source": [
      "Example 11.8 page no :  176"
     ]
    },
    {
     "cell_type": "code",
     "collapsed": false,
     "input": [
      "import math \n",
      "\n",
      "# Variables\n",
      "T = 473.15;\t\t\t#[K]\n",
      "P = 70.;\t\t\t#[bar]\n",
      "Tc = 420.;\t\t\t#[K]\n",
      "Pc = 40.43;\t\t\t#[bar]\n",
      "omega = 0.191;\n",
      "\n",
      "# Calculations\n",
      "#By interpolation in Tables E.15 and E.16\n",
      "si_0 = 0.627;\n",
      "si_1 = 1.096;\n",
      "#Using Eqn(11.64)\n",
      "si = round(si_0*(si_1**omega),3);\n",
      "f = round(si*P,1);\n",
      "\n",
      "# Results\n",
      "print 'Fugacity coefficient is ',si\n",
      "print 'fugacity is ',f,'bar'\n"
     ],
     "language": "python",
     "metadata": {},
     "outputs": [
      {
       "output_type": "stream",
       "stream": "stdout",
       "text": [
        "Fugacity coefficient is  0.638\n",
        "fugacity is  44.7 bar\n"
       ]
      }
     ],
     "prompt_number": 12
    },
    {
     "cell_type": "heading",
     "level": 2,
     "metadata": {},
     "source": [
      "Example 11.9 page no : 179"
     ]
    },
    {
     "cell_type": "code",
     "collapsed": false,
     "input": [
      "from numpy import array,exp,round\n",
      "import math \n",
      "\n",
      "# Variables\n",
      "P = 25.;\t\t\t#[KPa]\n",
      "T = 323.15;\t\t\t#[K]\n",
      "R = 83.14;\n",
      "x1 = 0.5;\n",
      "x2 = 1-x1;\n",
      "\n",
      "# Calculations\n",
      "ij = array([11,22,12]);\n",
      "Tc_ij = array([535.5,591.8,563.0]);\n",
      "Pc_ij = array([41.5,41.1,41.3]);\n",
      "Vc_ij = array([267,316,291]);\n",
      "Zc_ij = round((Pc_ij*Vc_ij)/(R*Tc_ij),3);\n",
      "omega_ij = array([0.323,0.262,0.293]);\n",
      "\n",
      "Tr_ij = round(T/Tc_ij,3);\n",
      "B0 = round(0.083-(0.422/(Tr_ij**1.6)),3)\n",
      "B1 = round(0.139-(0.172/(Tr_ij**4.2)),3)\n",
      "B_ij = round((R*Tc_ij/Pc_ij)*(B0+(omega_ij*B1)),0);\n",
      "\n",
      "delta_12 = (2*B_ij[2])-B_ij[0]-B_ij[1];\n",
      "R = 8314;\n",
      "si_1 = round(exp((P/(R*T))*(B_ij[0]+(x2**2*delta_12))),3);\n",
      "si_2 = round(exp((P/(R*T))*(B_ij[2]+(x1**2*delta_12))),3);\n",
      "\n",
      "Ans = [ij,Tc_ij,Pc_ij,Vc_ij,Zc_ij,omega_ij,Tr_ij,B0,B1,B_ij];\n",
      "\n",
      "# Results\n",
      "print '   ij     Tcij     Pcij   Vcij     Zcij      Wij     Trij      B0       B1       Bij'\n",
      "print Ans\n",
      "print 'Fugacity Coefficients are ',si_2,si_1\n"
     ],
     "language": "python",
     "metadata": {},
     "outputs": [
      {
       "output_type": "stream",
       "stream": "stdout",
       "text": [
        "   ij     Tcij     Pcij   Vcij     Zcij      Wij     Trij      B0       B1       Bij\n",
        "[array([11, 22, 12]), array([ 535.5,  591.8,  563. ]), array([ 41.5,  41.1,  41.3]), array([267, 316, 291]), array([ 0.249,  0.264,  0.257]), array([ 0.323,  0.262,  0.293]), array([ 0.603,  0.546,  0.574]), array([-0.865, -1.028, -0.943]), array([-1.3  , -2.045, -1.632]), array([-1378., -1872., -1611.])]\n",
        "Fugacity Coefficients are  0.985 0.987\n"
       ]
      }
     ],
     "prompt_number": 15
    },
    {
     "cell_type": "heading",
     "level": 2,
     "metadata": {},
     "source": [
      "Example 11.10  page no : 181"
     ]
    },
    {
     "cell_type": "code",
     "collapsed": false,
     "input": [
      "import math \n",
      "\n",
      "# Variables\n",
      "T0 = 298.15;\t\t\t#[K]\n",
      "T = 323.15;\t\t\t#[K]\n",
      "Cp_E = -2.86;\t\t\t#[J/mol/K]\n",
      "Ho_E = 897.9;\t\t\t#[J/mol]\n",
      "Go_E = 384.5;\t\t\t#[J/mol]\n",
      "\n",
      "# Calculations\n",
      "#(a)  Derivations\n",
      "#G_E = -a*(T ln T - T)+ bT + c\n",
      "#S_E = a ln T - b\n",
      "#H_E = aT + c\n",
      "#Where\n",
      "#a = Cp_E\n",
      "#c = Ho_E-aT0\n",
      "#b = ((Go_E+a(T ln T0 - T0)-c)/T0)\n",
      "#(b)\n",
      "a = Cp_E;\n",
      "c = round(Ho_E-(a*T0),1);\n",
      "b = round((Go_E+(a*((T0*math.log(T0))-T0)-c))/T0,4);\n",
      "G_E = round((-a*(T*math.log(T)-T))+(b*T)+c,1);\n",
      "S_E = round((a*math.log(T))-b,3);\n",
      "H_E = round((a*T)+c,1);\n",
      "\n",
      "# Results\n",
      "print 'G_E  =  ',G_E,'J/mol'\n",
      "print 'S_E  =  ',S_E,'J/mol/K'\n",
      "print 'H_E  =  ',H_E,'J/mol'\n"
     ],
     "language": "python",
     "metadata": {},
     "outputs": [
      {
       "output_type": "stream",
       "stream": "stdout",
       "text": [
        "G_E  =   344.4 J/mol\n",
        "S_E  =   1.492 J/mol/K\n",
        "H_E  =   826.4 J/mol\n"
       ]
      }
     ],
     "prompt_number": 16
    }
   ],
   "metadata": {}
  }
 ]
}