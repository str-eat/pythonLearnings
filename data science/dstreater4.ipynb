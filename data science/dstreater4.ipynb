{
 "cells": [
  {
   "cell_type": "markdown",
   "metadata": {},
   "source": [
    "Jupyter notebook for Udemy course \"Linear Regression in Python\" by Lazy Programmer Inc."
   ]
  },
  {
   "cell_type": "markdown",
   "metadata": {},
   "source": [
    "Multiple linear-regression: multiple input variables can predict an outcome variable better than one of those input variables alone.\n",
    "\n",
    "y(hat) = w(transpose)x + b\n",
    "\n",
    "x is now a matrix, not a scalar\n",
    "\n",
    "D is used to represent dimensionality\n",
    "    - Also represents the number of features\n",
    "    - w must be on the right\n",
    "    - w(hat) = x * w +b\n",
    "\n",
    "    "
   ]
  }
 ],
 "metadata": {
  "kernelspec": {
   "display_name": "Python 3",
   "language": "python",
   "name": "python3"
  },
  "language_info": {
   "codemirror_mode": {
    "name": "ipython",
    "version": 3
   },
   "file_extension": ".py",
   "mimetype": "text/x-python",
   "name": "python",
   "nbconvert_exporter": "python",
   "pygments_lexer": "ipython3",
   "version": "3.6.4"
  }
 },
 "nbformat": 4,
 "nbformat_minor": 2
}
